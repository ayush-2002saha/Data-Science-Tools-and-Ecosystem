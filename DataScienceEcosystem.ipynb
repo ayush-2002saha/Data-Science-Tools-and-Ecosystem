{
 "cells": [
  {
   "cell_type": "markdown",
   "id": "27c89d76",
   "metadata": {},
   "source": [
    "Create a markdown cell with the title of the notebook"
   ]
  },
  {
   "cell_type": "code",
   "execution_count": 2,
   "id": "b2b0bfb0",
   "metadata": {},
   "outputs": [
    {
     "data": {
      "text/markdown": [
       "# Data Science Tools and Ecosystem"
      ],
      "text/plain": [
       "<IPython.core.display.Markdown object>"
      ]
     },
     "metadata": {},
     "output_type": "display_data"
    }
   ],
   "source": [
    "from IPython.display import display, Markdown\n",
    "title = \"# Data Science Tools and Ecosystem\"\n",
    "display(Markdown(title))"
   ]
  },
  {
   "cell_type": "markdown",
   "id": "55518e32",
   "metadata": {},
   "source": [
    "Create a markdown cell for an introduction"
   ]
  },
  {
   "cell_type": "code",
   "execution_count": 4,
   "id": "aa269b9f",
   "metadata": {},
   "outputs": [
    {
     "data": {
      "text/markdown": [
       "In this notebook, Data Science Tools and Ecosystem are summarized."
      ],
      "text/plain": [
       "<IPython.core.display.Markdown object>"
      ]
     },
     "metadata": {},
     "output_type": "display_data"
    }
   ],
   "source": [
    "from IPython.display import display, Markdown\n",
    "intro_sentence = \"In this notebook, Data Science Tools and Ecosystem are summarized.\"\n",
    "display(Markdown(intro_sentence))"
   ]
  },
  {
   "cell_type": "markdown",
   "id": "c63f1ff9",
   "metadata": {},
   "source": [
    "Create a markdown cell to list data science languages."
   ]
  },
  {
   "cell_type": "code",
   "execution_count": 6,
   "id": "cb6e7ffd",
   "metadata": {},
   "outputs": [
    {
     "data": {
      "text/markdown": [
       "\n",
       "Some of the popular languages that Data Scientists use are:\n",
       "\n",
       "1. Python\n",
       "2. R\n",
       "3. SQL\n",
       "4. Julia\n",
       "5. Scala\n"
      ],
      "text/plain": [
       "<IPython.core.display.Markdown object>"
      ]
     },
     "metadata": {},
     "output_type": "display_data"
    }
   ],
   "source": [
    "from IPython.display import display, Markdown\n",
    "languages_overview = \"\"\"\n",
    "Some of the popular languages that Data Scientists use are:\n",
    "\n",
    "1. Python\n",
    "2. R\n",
    "3. SQL\n",
    "4. Julia\n",
    "5. Scala\n",
    "\"\"\"\n",
    "display(Markdown(languages_overview))"
   ]
  },
  {
   "cell_type": "markdown",
   "id": "31d6d6da",
   "metadata": {},
   "source": [
    "Create a markdown cell to list data science libraries."
   ]
  },
  {
   "cell_type": "code",
   "execution_count": 7,
   "id": "a3c785d0",
   "metadata": {},
   "outputs": [
    {
     "data": {
      "text/markdown": [
       "\n",
       "Some of the commonly used libraries used by Data Scientists include:\n",
       "\n",
       "1. NumPy\n",
       "2. Pandas\n",
       "3. Matplotlib\n",
       "4. SciPy\n",
       "5. Scikit-learn\n"
      ],
      "text/plain": [
       "<IPython.core.display.Markdown object>"
      ]
     },
     "metadata": {},
     "output_type": "display_data"
    }
   ],
   "source": [
    "from IPython.display import display, Markdown\n",
    "libraries_overview = \"\"\"\n",
    "Some of the commonly used libraries used by Data Scientists include:\n",
    "\n",
    "1. NumPy\n",
    "2. Pandas\n",
    "3. Matplotlib\n",
    "4. SciPy\n",
    "5. Scikit-learn\n",
    "\"\"\"\n",
    "display(Markdown(libraries_overview))"
   ]
  },
  {
   "cell_type": "markdown",
   "id": "cfd95dcc",
   "metadata": {},
   "source": [
    "Create a markdown cell with a table of Data Science tools"
   ]
  },
  {
   "cell_type": "code",
   "execution_count": 8,
   "id": "9abbd485",
   "metadata": {},
   "outputs": [
    {
     "data": {
      "text/markdown": [
       "\n",
       "| Data Science Tools |\n",
       "|--------------------|\n",
       "| Jupyter Notebook   |\n",
       "| RStudio            |\n",
       "| Apache Zeppelin    |\n"
      ],
      "text/plain": [
       "<IPython.core.display.Markdown object>"
      ]
     },
     "metadata": {},
     "output_type": "display_data"
    }
   ],
   "source": [
    "from IPython.display import display, Markdown\n",
    "tools_table = \"\"\"\n",
    "| Data Science Tools |\n",
    "|--------------------|\n",
    "| Jupyter Notebook   |\n",
    "| RStudio            |\n",
    "| Apache Zeppelin    |\n",
    "\"\"\"\n",
    "display(Markdown(tools_table))"
   ]
  },
  {
   "cell_type": "markdown",
   "id": "fdbddd2a",
   "metadata": {},
   "source": [
    "Create a markdown cell introducing arithmetic expression examples"
   ]
  },
  {
   "cell_type": "code",
   "execution_count": 10,
   "id": "3b0bd1cb",
   "metadata": {},
   "outputs": [
    {
     "data": {
      "text/markdown": [
       "### Below are a few examples of evaluating arithmetic expressions in Python."
      ],
      "text/plain": [
       "<IPython.core.display.Markdown object>"
      ]
     },
     "metadata": {},
     "output_type": "display_data"
    },
    {
     "data": {
      "text/markdown": [
       "\n",
       "1 + 2 * 3\n",
       "(4 - 2) * (5 + 1)\n",
       "10 / 2 + 5\n"
      ],
      "text/plain": [
       "<IPython.core.display.Markdown object>"
      ]
     },
     "metadata": {},
     "output_type": "display_data"
    }
   ],
   "source": [
    "from IPython.display import display, Markdown\n",
    "intro_arithmetic = \"### Below are a few examples of evaluating arithmetic expressions in Python.\"\n",
    "display(Markdown(intro_arithmetic))\n",
    "arithmetic_examples = \"\"\"\n",
    "1 + 2 * 3\n",
    "(4 - 2) * (5 + 1)\n",
    "10 / 2 + 5\n",
    "\"\"\"\n",
    "display(Markdown(arithmetic_examples))"
   ]
  },
  {
   "cell_type": "markdown",
   "id": "98c36abf",
   "metadata": {},
   "source": [
    "Create a code cell to multiply and add numbers"
   ]
  },
  {
   "cell_type": "code",
   "execution_count": 11,
   "id": "a387346a",
   "metadata": {},
   "outputs": [
    {
     "data": {
      "text/plain": [
       "17"
      ]
     },
     "execution_count": 11,
     "metadata": {},
     "output_type": "execute_result"
    }
   ],
   "source": [
    "result = (3 * 4) + 5\n",
    "result"
   ]
  },
  {
   "cell_type": "markdown",
   "id": "c243f68b",
   "metadata": {},
   "source": [
    "Create a code cell to convert minutes to hours"
   ]
  },
  {
   "cell_type": "code",
   "execution_count": 12,
   "id": "013bd44f",
   "metadata": {},
   "outputs": [
    {
     "data": {
      "text/plain": [
       "3.3333333333333335"
      ]
     },
     "execution_count": 12,
     "metadata": {},
     "output_type": "execute_result"
    }
   ],
   "source": [
    "minutes = 200\n",
    "hours = minutes / 60\n",
    "hours"
   ]
  },
  {
   "cell_type": "markdown",
   "id": "71ae148e",
   "metadata": {},
   "source": [
    "Insert a markdown cell to list Objectives."
   ]
  },
  {
   "cell_type": "code",
   "execution_count": 13,
   "id": "6d9a03fa",
   "metadata": {},
   "outputs": [
    {
     "data": {
      "text/markdown": [
       "### Below are a few examples of evaluating arithmetic expressions in Python."
      ],
      "text/plain": [
       "<IPython.core.display.Markdown object>"
      ]
     },
     "metadata": {},
     "output_type": "display_data"
    },
    {
     "data": {
      "text/markdown": [
       "\n",
       "**Objectives:**\n",
       "\n",
       "- List popular languages for Data Science in Python\n",
       "- Highlight commonly used libraries in Data Science\n",
       "- Introduce arithmetic expression examples in Python\n"
      ],
      "text/plain": [
       "<IPython.core.display.Markdown object>"
      ]
     },
     "metadata": {},
     "output_type": "display_data"
    }
   ],
   "source": [
    "from IPython.display import display, Markdown\n",
    "intro_arithmetic = \"### Below are a few examples of evaluating arithmetic expressions in Python.\"\n",
    "display(Markdown(intro_arithmetic))\n",
    "objectives = \"\"\"\n",
    "**Objectives:**\n",
    "\n",
    "- List popular languages for Data Science in Python\n",
    "- Highlight commonly used libraries in Data Science\n",
    "- Introduce arithmetic expression examples in Python\n",
    "\"\"\"\n",
    "display(Markdown(objectives))"
   ]
  },
  {
   "cell_type": "markdown",
   "id": "1979cc32",
   "metadata": {},
   "source": [
    "Create a markdown cell to indicate the Author’s name"
   ]
  },
  {
   "cell_type": "code",
   "execution_count": 15,
   "id": "439e91fb",
   "metadata": {},
   "outputs": [
    {
     "data": {
      "text/markdown": [
       "## Author\n",
       "\n",
       "Ayush Saha"
      ],
      "text/plain": [
       "<IPython.core.display.Markdown object>"
      ]
     },
     "metadata": {},
     "output_type": "display_data"
    }
   ],
   "source": [
    "from IPython.display import display, Markdown\n",
    "author_info = \"## Author\\n\\nAyush Saha\"  \n",
    "display(Markdown(author_info))\n"
   ]
  },
  {
   "cell_type": "code",
   "execution_count": null,
   "id": "6dcebbb4",
   "metadata": {},
   "outputs": [],
   "source": []
  }
 ],
 "metadata": {
  "kernelspec": {
   "display_name": "Python 3 (ipykernel)",
   "language": "python",
   "name": "python3"
  },
  "language_info": {
   "codemirror_mode": {
    "name": "ipython",
    "version": 3
   },
   "file_extension": ".py",
   "mimetype": "text/x-python",
   "name": "python",
   "nbconvert_exporter": "python",
   "pygments_lexer": "ipython3",
   "version": "3.10.9"
  }
 },
 "nbformat": 4,
 "nbformat_minor": 5
}
